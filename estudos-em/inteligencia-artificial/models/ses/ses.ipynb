{
  "nbformat": 4,
  "nbformat_minor": 0,
  "metadata": {
    "colab": {
      "name": "Untitled0.ipynb",
      "provenance": []
    },
    "kernelspec": {
      "name": "python3",
      "display_name": "Python 3",
      "language": "python"
    }
  },
  "cells": [
    {
      "source": [
        "## Libraries"
      ],
      "cell_type": "markdown",
      "metadata": {}
    },
    {
      "cell_type": "code",
      "metadata": {
        "id": "s3tKGcLkrmvV"
      },
      "source": [
        "!pip install numpy\n",
        "!pip install pandas\n",
        "!pip install numpy\n",
        "!pip install matplotlib\n",
        "!pip install skll\n",
        "\n",
        "import matplotlib.pyplot as plt\n",
        "\n",
        "import sklearn.metrics as sklm\n",
        "import skll.metrics as skllm\n",
        "import copy\n",
        "import json\n",
        "\n",
        "import pandas as pd\n",
        "import numpy as np"
      ],
      "execution_count": 1,
      "outputs": [
        {
          "output_type": "stream",
          "name": "stdout",
          "text": [
            "Defaulting to user installation because normal site-packages is not writeable\n",
            "Requirement already satisfied: numpy in /home/tuca/.local/lib/python3.8/site-packages (1.20.3)\n",
            "\u001b[33mWARNING: You are using pip version 21.0.1; however, version 21.1.2 is available.\n",
            "You should consider upgrading via the '/usr/bin/python3 -m pip install --upgrade pip' command.\u001b[0m\n",
            "Defaulting to user installation because normal site-packages is not writeable\n",
            "Requirement already satisfied: pandas in /home/tuca/.local/lib/python3.8/site-packages (1.2.4)\n",
            "Requirement already satisfied: numpy>=1.16.5 in /home/tuca/.local/lib/python3.8/site-packages (from pandas) (1.20.3)\n",
            "Requirement already satisfied: pytz>=2017.3 in /usr/lib/python3/dist-packages (from pandas) (2019.3)\n",
            "Requirement already satisfied: python-dateutil>=2.7.3 in /usr/lib/python3/dist-packages (from pandas) (2.7.3)\n",
            "\u001b[33mWARNING: You are using pip version 21.0.1; however, version 21.1.2 is available.\n",
            "You should consider upgrading via the '/usr/bin/python3 -m pip install --upgrade pip' command.\u001b[0m\n",
            "Defaulting to user installation because normal site-packages is not writeable\n",
            "Requirement already satisfied: numpy in /home/tuca/.local/lib/python3.8/site-packages (1.20.3)\n",
            "\u001b[33mWARNING: You are using pip version 21.0.1; however, version 21.1.2 is available.\n",
            "You should consider upgrading via the '/usr/bin/python3 -m pip install --upgrade pip' command.\u001b[0m\n",
            "Defaulting to user installation because normal site-packages is not writeable\n",
            "Requirement already satisfied: matplotlib in /home/tuca/.local/lib/python3.8/site-packages (3.4.2)\n",
            "Requirement already satisfied: python-dateutil>=2.7 in /usr/lib/python3/dist-packages (from matplotlib) (2.7.3)\n",
            "Requirement already satisfied: pillow>=6.2.0 in /usr/lib/python3/dist-packages (from matplotlib) (7.0.0)\n",
            "Requirement already satisfied: kiwisolver>=1.0.1 in /home/tuca/.local/lib/python3.8/site-packages (from matplotlib) (1.3.1)\n",
            "Requirement already satisfied: cycler>=0.10 in /home/tuca/.local/lib/python3.8/site-packages (from matplotlib) (0.10.0)\n",
            "Requirement already satisfied: pyparsing>=2.2.1 in /home/tuca/.local/lib/python3.8/site-packages (from matplotlib) (2.4.7)\n",
            "Requirement already satisfied: numpy>=1.16 in /home/tuca/.local/lib/python3.8/site-packages (from matplotlib) (1.20.3)\n",
            "Requirement already satisfied: six in /usr/lib/python3/dist-packages (from cycler>=0.10->matplotlib) (1.14.0)\n",
            "\u001b[33mWARNING: You are using pip version 21.0.1; however, version 21.1.2 is available.\n",
            "You should consider upgrading via the '/usr/bin/python3 -m pip install --upgrade pip' command.\u001b[0m\n",
            "Defaulting to user installation because normal site-packages is not writeable\n",
            "Requirement already satisfied: skll in /home/tuca/.local/lib/python3.8/site-packages (2.5.0)\n",
            "Requirement already satisfied: ruamel.yaml in /home/tuca/.local/lib/python3.8/site-packages (from skll) (0.17.4)\n",
            "Requirement already satisfied: pandas in /home/tuca/.local/lib/python3.8/site-packages (from skll) (1.2.4)\n",
            "Requirement already satisfied: scikit-learn<=0.24.2,>=0.24.1 in /home/tuca/.local/lib/python3.8/site-packages (from skll) (0.24.2)\n",
            "Requirement already satisfied: joblib in /home/tuca/.local/lib/python3.8/site-packages (from skll) (1.0.1)\n",
            "Requirement already satisfied: seaborn in /home/tuca/.local/lib/python3.8/site-packages (from skll) (0.11.1)\n",
            "Requirement already satisfied: numpy in /home/tuca/.local/lib/python3.8/site-packages (from skll) (1.20.3)\n",
            "Requirement already satisfied: beautifulsoup4 in /home/tuca/.local/lib/python3.8/site-packages (from skll) (4.9.3)\n",
            "Requirement already satisfied: scipy in /home/tuca/.local/lib/python3.8/site-packages (from skll) (1.6.3)\n",
            "Requirement already satisfied: tabulate in /home/tuca/.local/lib/python3.8/site-packages (from skll) (0.8.9)\n",
            "Requirement already satisfied: threadpoolctl>=2.0.0 in /home/tuca/.local/lib/python3.8/site-packages (from scikit-learn<=0.24.2,>=0.24.1->skll) (2.1.0)\n",
            "Requirement already satisfied: soupsieve>1.2 in /home/tuca/.local/lib/python3.8/site-packages (from beautifulsoup4->skll) (2.2.1)\n",
            "Requirement already satisfied: pytz>=2017.3 in /usr/lib/python3/dist-packages (from pandas->skll) (2019.3)\n",
            "Requirement already satisfied: python-dateutil>=2.7.3 in /usr/lib/python3/dist-packages (from pandas->skll) (2.7.3)\n",
            "Requirement already satisfied: ruamel.yaml.clib>=0.1.2 in /home/tuca/.local/lib/python3.8/site-packages (from ruamel.yaml->skll) (0.2.2)\n",
            "Requirement already satisfied: matplotlib>=2.2 in /home/tuca/.local/lib/python3.8/site-packages (from seaborn->skll) (3.4.2)\n",
            "Requirement already satisfied: pyparsing>=2.2.1 in /home/tuca/.local/lib/python3.8/site-packages (from matplotlib>=2.2->seaborn->skll) (2.4.7)\n",
            "Requirement already satisfied: kiwisolver>=1.0.1 in /home/tuca/.local/lib/python3.8/site-packages (from matplotlib>=2.2->seaborn->skll) (1.3.1)\n",
            "Requirement already satisfied: pillow>=6.2.0 in /usr/lib/python3/dist-packages (from matplotlib>=2.2->seaborn->skll) (7.0.0)\n",
            "Requirement already satisfied: cycler>=0.10 in /home/tuca/.local/lib/python3.8/site-packages (from matplotlib>=2.2->seaborn->skll) (0.10.0)\n",
            "Requirement already satisfied: six in /usr/lib/python3/dist-packages (from cycler>=0.10->matplotlib>=2.2->seaborn->skll) (1.14.0)\n",
            "\u001b[33mWARNING: You are using pip version 21.0.1; however, version 21.1.2 is available.\n",
            "You should consider upgrading via the '/usr/bin/python3 -m pip install --upgrade pip' command.\u001b[0m\n"
          ]
        }
      ]
    },
    {
      "source": [
        "## Utils"
      ],
      "cell_type": "markdown",
      "metadata": {}
    },
    {
      "cell_type": "code",
      "execution_count": 2,
      "metadata": {},
      "outputs": [],
      "source": [
        "PATH = \"./\"\n",
        "ROOT_PATH =  \"../../\""
      ]
    },
    {
      "cell_type": "code",
      "execution_count": 3,
      "metadata": {},
      "outputs": [],
      "source": [
        "def retrieve_data(flow_interval):\n",
        "    path = \"{0}dataset/dataset_flow_{1}.csv\".format(ROOT_PATH, flow_interval)\n",
        "    print(PATH)\n",
        "    data = pd.read_csv(path, ';')\n",
        "    \n",
        "    data['Flow'].apply(int)\n",
        "    data['AveSpeed'].apply(float)\n",
        "    data['Density'].apply(float)\n",
        "    data['Sunday'].apply(int)\n",
        "    data['Monday'].apply(int)\n",
        "    data['Tuesday'].apply(int)\n",
        "    data['Wednesday'].apply(int)\n",
        "    data['Thursday'].apply(int)\n",
        "    data['Friday'].apply(int)\n",
        "    data['Saturday'].apply(int)\n",
        "      \n",
        "    return data"
      ]
    },
    {
      "cell_type": "code",
      "execution_count": 4,
      "metadata": {},
      "outputs": [],
      "source": [
        "def print_json (obj):\n",
        "  print(json.dumps(obj, sort_keys=True, indent=4))"
      ]
    },
    {
      "cell_type": "code",
      "execution_count": 5,
      "metadata": {},
      "outputs": [],
      "source": [
        "def store(obj, path, name):\n",
        "  with open(\"{0}{1}/{2}.json\".format(PATH, path, name), 'w') as json_file:\n",
        "    json.dump(obj, json_file, sort_keys=True, indent=4)"
      ]
    },
    {
      "source": [
        "## Testing"
      ],
      "cell_type": "markdown",
      "metadata": {}
    },
    {
      "cell_type": "code",
      "execution_count": 6,
      "metadata": {},
      "outputs": [],
      "source": [
        "# Model Parameters\n",
        "FLOW_INTERVAL = 150 # the interval size for each flow\n",
        "ALPHA = 0.8"
      ]
    },
    {
      "cell_type": "code",
      "execution_count": 7,
      "metadata": {},
      "outputs": [],
      "source": [
        "def simple_exponential_smoothing(X):\n",
        "  global result_data\n",
        "  \n",
        "  name = \"SES\"\n",
        "  expected, observed = [], []\n",
        "\n",
        "  X_test = np.array_split(X, 10)\n",
        "  F = X_test[8][-1]\n",
        "  for x in X_test[9]:\n",
        "    F1 = ALPHA * x + (1 - ALPHA) * F\n",
        "    \n",
        "    expected.append(int(x))\n",
        "    observed.append(float(F))\n",
        "    F = F1\n",
        "  \n",
        "  result_data['results']['RMSE'] = sklm.mean_squared_error(expected, observed, squared=False)\n",
        "  result_data['results']['MAE'] = sklm.mean_absolute_error(expected, observed)\n",
        "  result_data['results']['Kappa'] = skllm.kappa(expected, observed)\n",
        "  result_data['results']['expected'] = expected\n",
        "  result_data['results']['observed'] = observed\n",
        "  store(result_data, \"results\", \"{0}_alpha_{1}\".format(name, ALPHA))"
      ]
    },
    {
      "cell_type": "code",
      "execution_count": 8,
      "metadata": {},
      "outputs": [
        {
          "output_type": "stream",
          "name": "stdout",
          "text": [
            "./\n"
          ]
        }
      ],
      "source": [
        "global result_data\n",
        "  \n",
        "result_data = {\n",
        "    'results': {},\n",
        "    'meta': {\n",
        "      'FLOW_INTERVAL': FLOW_INTERVAL,\n",
        "    }\n",
        "}\n",
        "\n",
        "data = retrieve_data(FLOW_INTERVAL)\n",
        "sequence = np.array(data['Flow'])\n",
        "simple_exponential_smoothing(sequence)"
      ]
    },
    {
      "cell_type": "code",
      "execution_count": 9,
      "metadata": {},
      "outputs": [
        {
          "output_type": "execute_result",
          "data": {
            "text/plain": [
              "8.517587227678467"
            ]
          },
          "metadata": {},
          "execution_count": 9
        }
      ],
      "source": [
        "result_data['results']['RMSE']"
      ]
    },
    {
      "cell_type": "code",
      "execution_count": 10,
      "metadata": {},
      "outputs": [
        {
          "output_type": "execute_result",
          "data": {
            "text/plain": [
              "5.929029727639217"
            ]
          },
          "metadata": {},
          "execution_count": 10
        }
      ],
      "source": [
        "result_data['results']['MAE']"
      ]
    },
    {
      "cell_type": "code",
      "execution_count": 11,
      "metadata": {},
      "outputs": [
        {
          "output_type": "execute_result",
          "data": {
            "text/plain": [
              "0.15695993967380406"
            ]
          },
          "metadata": {},
          "execution_count": 11
        }
      ],
      "source": [
        "result_data['results']['Kappa']"
      ]
    },
    {
      "cell_type": "code",
      "execution_count": 14,
      "metadata": {},
      "outputs": [],
      "source": [
        "def plot_prediction (Y, Y_hat, title):\n",
        "  \"\"\" Plot Prediction\n",
        "  \n",
        "  Plot the prediction (Flow x Time) of what was expected and what\n",
        "  was predicted.\n",
        "  \"\"\"\n",
        "  name = f\"{title} (alpha {ALPHA})\"\n",
        "  path = f\"plots/prediction/{name}\"\n",
        "    \n",
        "  plt.plot(Y)\n",
        "  plt.plot(Y_hat)\n",
        "  plt.title(f\"Predição do Modelo {title} (alpha {ALPHA})\")\n",
        "  plt.ylabel('Fluxo')\n",
        "  plt.xlabel('Tempo')\n",
        "  plt.legend(['esperado', 'observado'], loc='upper left')\n",
        "  plt.rcdefaults()\n",
        "\n",
        "  plt.savefig(path + \".png\", bbox_inches='tight')\n",
        "  # plt.savefig(path + \".pdf\")\n",
        "\n",
        "  plt.close('all')"
      ]
    },
    {
      "cell_type": "code",
      "execution_count": 15,
      "metadata": {},
      "outputs": [],
      "source": [
        "expected = result_data['results']['expected']\n",
        "observed = result_data['results']['observed']\n",
        "plot_prediction(expected, observed, \"SES\")"
      ]
    }
  ]
}