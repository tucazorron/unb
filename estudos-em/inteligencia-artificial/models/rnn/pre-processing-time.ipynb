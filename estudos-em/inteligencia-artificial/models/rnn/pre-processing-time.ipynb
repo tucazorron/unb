{
  "nbformat": 4,
  "nbformat_minor": 0,
  "metadata": {
    "colab": {
      "name": "Untitled0.ipynb",
      "provenance": []
    },
    "kernelspec": {
      "name": "python3",
      "display_name": "Python 3",
      "language": "python"
    }
  },
  "cells": [
    {
      "source": [
        "## Libraries"
      ],
      "cell_type": "markdown",
      "metadata": {}
    },
    {
      "cell_type": "code",
      "metadata": {
        "id": "s3tKGcLkrmvV"
      },
      "source": [
        "!pip install numpy\n",
        "!pip install pandas\n",
        "!pip install statsmodels\n",
        "\n",
        "import pandas as pd # data manipulation library\n",
        "import numpy as np # math library\n",
        "import datetime as dt # to discover week day\n",
        "import statsmodels as sm # statistical models\n",
        "import statsmodels.api as sma # statistical models api\n",
        "import time as tm\n",
        "import matplotlib.pyplot as plt"
      ],
      "execution_count": 1,
      "outputs": [
        {
          "output_type": "stream",
          "name": "stdout",
          "text": [
            "Defaulting to user installation because normal site-packages is not writeable\n",
            "Requirement already satisfied: numpy in /home/oh/.local/lib/python3.9/site-packages (1.20.1)\n",
            "Defaulting to user installation because normal site-packages is not writeable\n",
            "Requirement already satisfied: pandas in /home/oh/.local/lib/python3.9/site-packages (1.2.2)\n",
            "Requirement already satisfied: numpy>=1.16.5 in /home/oh/.local/lib/python3.9/site-packages (from pandas) (1.20.1)\n",
            "Requirement already satisfied: pytz>=2017.3 in /home/oh/.local/lib/python3.9/site-packages (from pandas) (2021.1)\n",
            "Requirement already satisfied: python-dateutil>=2.7.3 in /home/oh/.local/lib/python3.9/site-packages (from pandas) (2.8.1)\n",
            "Requirement already satisfied: six>=1.5 in /usr/lib/python3.9/site-packages (from python-dateutil>=2.7.3->pandas) (1.15.0)\n",
            "Defaulting to user installation because normal site-packages is not writeable\n",
            "Requirement already satisfied: statsmodels in /home/oh/.local/lib/python3.9/site-packages (0.12.2)\n",
            "Requirement already satisfied: scipy>=1.1 in /home/oh/.local/lib/python3.9/site-packages (from statsmodels) (1.6.1)\n",
            "Requirement already satisfied: numpy>=1.15 in /home/oh/.local/lib/python3.9/site-packages (from statsmodels) (1.20.1)\n",
            "Requirement already satisfied: pandas>=0.21 in /home/oh/.local/lib/python3.9/site-packages (from statsmodels) (1.2.2)\n",
            "Requirement already satisfied: patsy>=0.5 in /home/oh/.local/lib/python3.9/site-packages (from statsmodels) (0.5.1)\n",
            "Requirement already satisfied: pytz>=2017.3 in /home/oh/.local/lib/python3.9/site-packages (from pandas>=0.21->statsmodels) (2021.1)\n",
            "Requirement already satisfied: python-dateutil>=2.7.3 in /home/oh/.local/lib/python3.9/site-packages (from pandas>=0.21->statsmodels) (2.8.1)\n",
            "Requirement already satisfied: numpy>=1.15 in /home/oh/.local/lib/python3.9/site-packages (from statsmodels) (1.20.1)\n",
            "Requirement already satisfied: numpy>=1.15 in /home/oh/.local/lib/python3.9/site-packages (from statsmodels) (1.20.1)\n",
            "Requirement already satisfied: six in /usr/lib/python3.9/site-packages (from patsy>=0.5->statsmodels) (1.15.0)\n",
            "Requirement already satisfied: six in /usr/lib/python3.9/site-packages (from patsy>=0.5->statsmodels) (1.15.0)\n",
            "Requirement already satisfied: numpy>=1.15 in /home/oh/.local/lib/python3.9/site-packages (from statsmodels) (1.20.1)\n"
          ]
        }
      ]
    },
    {
      "source": [
        "## Open dataset"
      ],
      "cell_type": "markdown",
      "metadata": {}
    },
    {
      "cell_type": "code",
      "metadata": {
        "id": "ed4r_BzFuaL4"
      },
      "source": [
        "DATASET_PATH = f\"../../data/all_data_sorted.csv\"\n",
        "\n",
        "col_names = [\n",
        "  'Sensor',\n",
        "  'Date',\n",
        "  'Time',\n",
        "  'Lane',\n",
        "  'Speed',\n",
        "  'Max Speed',\n",
        "  'Size'\n",
        "]\n",
        "\n",
        "alldata = pd.read_csv(DATASET_PATH, ';', header=None, names=col_names)"
      ],
      "execution_count": 2,
      "outputs": []
    },
    {
      "cell_type": "code",
      "execution_count": 3,
      "metadata": {},
      "outputs": [
        {
          "output_type": "execute_result",
          "data": {
            "text/plain": [
              "   Sensor        Date      Time  Lane  Speed  Max Speed  Size\n",
              "0  RSI128  2016/05/01  00:00:09     1   26.0       60.0   0.0\n",
              "1  RSI131  2016/05/01  00:00:09     2   20.0       60.0   1.1\n",
              "2  RSI132  2016/05/01  00:00:09     1   45.0       60.0   0.0\n",
              "3  RSI131  2016/05/01  00:00:10     1   40.0       60.0   0.5\n",
              "4  RSI129  2016/05/01  00:00:12     1   35.0       60.0   0.0"
            ],
            "text/html": "<div>\n<style scoped>\n    .dataframe tbody tr th:only-of-type {\n        vertical-align: middle;\n    }\n\n    .dataframe tbody tr th {\n        vertical-align: top;\n    }\n\n    .dataframe thead th {\n        text-align: right;\n    }\n</style>\n<table border=\"1\" class=\"dataframe\">\n  <thead>\n    <tr style=\"text-align: right;\">\n      <th></th>\n      <th>Sensor</th>\n      <th>Date</th>\n      <th>Time</th>\n      <th>Lane</th>\n      <th>Speed</th>\n      <th>Max Speed</th>\n      <th>Size</th>\n    </tr>\n  </thead>\n  <tbody>\n    <tr>\n      <th>0</th>\n      <td>RSI128</td>\n      <td>2016/05/01</td>\n      <td>00:00:09</td>\n      <td>1</td>\n      <td>26.0</td>\n      <td>60.0</td>\n      <td>0.0</td>\n    </tr>\n    <tr>\n      <th>1</th>\n      <td>RSI131</td>\n      <td>2016/05/01</td>\n      <td>00:00:09</td>\n      <td>2</td>\n      <td>20.0</td>\n      <td>60.0</td>\n      <td>1.1</td>\n    </tr>\n    <tr>\n      <th>2</th>\n      <td>RSI132</td>\n      <td>2016/05/01</td>\n      <td>00:00:09</td>\n      <td>1</td>\n      <td>45.0</td>\n      <td>60.0</td>\n      <td>0.0</td>\n    </tr>\n    <tr>\n      <th>3</th>\n      <td>RSI131</td>\n      <td>2016/05/01</td>\n      <td>00:00:10</td>\n      <td>1</td>\n      <td>40.0</td>\n      <td>60.0</td>\n      <td>0.5</td>\n    </tr>\n    <tr>\n      <th>4</th>\n      <td>RSI129</td>\n      <td>2016/05/01</td>\n      <td>00:00:12</td>\n      <td>1</td>\n      <td>35.0</td>\n      <td>60.0</td>\n      <td>0.0</td>\n    </tr>\n  </tbody>\n</table>\n</div>"
          },
          "metadata": {},
          "execution_count": 3
        }
      ],
      "source": [
        "alldata.head()\n",
        "#alldata['Lane'].value_counts()"
      ]
    },
    {
      "source": [
        "## Get sensor and remove unnecessary columns"
      ],
      "cell_type": "markdown",
      "metadata": {}
    },
    {
      "cell_type": "code",
      "execution_count": 4,
      "metadata": {},
      "outputs": [],
      "source": [
        "data = alldata[alldata['Sensor'] == 'RSI128']\n",
        "#data['Lane'].value_counts()"
      ]
    },
    {
      "cell_type": "code",
      "execution_count": 5,
      "metadata": {},
      "outputs": [],
      "source": [
        "data = data.drop(columns=['Sensor','Lane','Max Speed','Size'])"
      ]
    },
    {
      "source": [
        "## Create week day column from date"
      ],
      "cell_type": "markdown",
      "metadata": {}
    },
    {
      "cell_type": "code",
      "execution_count": 6,
      "metadata": {},
      "outputs": [],
      "source": [
        "# Get datetime\n",
        "data['Date'] = pd.to_datetime(data['Date'], format='%Y/%m/%d')\n",
        "\n",
        "# Adjust type\n",
        "f = lambda x : tm.strptime(x, '%H:%M:%S')\n",
        "data['Time'] = data['Time'].apply(f)\n",
        "\n",
        "g = lambda x : dt.timedelta(hours=x.tm_hour,minutes=x.tm_min,seconds=x.tm_sec).total_seconds()\n",
        "data['Time'] = data['Time'].apply(g)\n",
        "\n",
        "h = lambda x : int(x)\n",
        "data['Time'] = data['Time'].apply(h)\n",
        "\n",
        "# Create week day from date\n",
        "j = lambda x : x.weekday()\n",
        "data['WeekDay'] = data['Date'].apply(j)"
      ]
    },
    {
      "cell_type": "code",
      "execution_count": 7,
      "metadata": {},
      "outputs": [
        {
          "output_type": "execute_result",
          "data": {
            "text/plain": [
              "          Date  Time  Speed  WeekDay\n",
              "0   2016-05-01     9   26.0        6\n",
              "7   2016-05-01    18   32.0        6\n",
              "39  2016-05-01   104   16.0        6\n",
              "108 2016-05-01   206   22.0        6\n",
              "160 2016-05-01   305   25.0        6"
            ],
            "text/html": "<div>\n<style scoped>\n    .dataframe tbody tr th:only-of-type {\n        vertical-align: middle;\n    }\n\n    .dataframe tbody tr th {\n        vertical-align: top;\n    }\n\n    .dataframe thead th {\n        text-align: right;\n    }\n</style>\n<table border=\"1\" class=\"dataframe\">\n  <thead>\n    <tr style=\"text-align: right;\">\n      <th></th>\n      <th>Date</th>\n      <th>Time</th>\n      <th>Speed</th>\n      <th>WeekDay</th>\n    </tr>\n  </thead>\n  <tbody>\n    <tr>\n      <th>0</th>\n      <td>2016-05-01</td>\n      <td>9</td>\n      <td>26.0</td>\n      <td>6</td>\n    </tr>\n    <tr>\n      <th>7</th>\n      <td>2016-05-01</td>\n      <td>18</td>\n      <td>32.0</td>\n      <td>6</td>\n    </tr>\n    <tr>\n      <th>39</th>\n      <td>2016-05-01</td>\n      <td>104</td>\n      <td>16.0</td>\n      <td>6</td>\n    </tr>\n    <tr>\n      <th>108</th>\n      <td>2016-05-01</td>\n      <td>206</td>\n      <td>22.0</td>\n      <td>6</td>\n    </tr>\n    <tr>\n      <th>160</th>\n      <td>2016-05-01</td>\n      <td>305</td>\n      <td>25.0</td>\n      <td>6</td>\n    </tr>\n  </tbody>\n</table>\n</div>"
          },
          "metadata": {},
          "execution_count": 7
        }
      ],
      "source": [
        "data.head()"
      ]
    },
    {
      "source": [
        "## Save dataset"
      ],
      "cell_type": "markdown",
      "metadata": {}
    },
    {
      "cell_type": "code",
      "execution_count": 8,
      "metadata": {},
      "outputs": [],
      "source": [
        "data.to_csv(f\"dataset/dataset.csv\", \";\", index=False)"
      ]
    },
    {
      "cell_type": "code",
      "execution_count": 9,
      "metadata": {},
      "outputs": [],
      "source": [
        "def get_day_size():\n",
        "  return (24 * 60 * 60)"
      ]
    },
    {
      "cell_type": "code",
      "execution_count": 10,
      "metadata": {},
      "outputs": [],
      "source": [
        "def get_week_size():\n",
        "  return (7 * 24 * 60 * 60)"
      ]
    },
    {
      "cell_type": "code",
      "execution_count": 11,
      "metadata": {},
      "outputs": [],
      "source": [
        "def get_time_data (data):\n",
        "  weekDay = np.asarray(data['WeekDay'])\n",
        "  time = np.asarray(data['Time'])\n",
        "  speed = np.asarray(data['Speed'])\n",
        "  \n",
        "  timeData = []\n",
        "\n",
        "  for i in range(len(time)):\n",
        "    w = [(1 if weekDay[i] == j else 0) for j in range(7)]\n",
        "\n",
        "    timeData.append((time[i], speed[i], w[0], w[1], w[2], w[3], w[4], w[5], w[6]))\n",
        "      \n",
        "  cols = [\n",
        "    'Time',\n",
        "    'Speed',\n",
        "    'Sunday',\n",
        "    'Monday',\n",
        "    'Tuesday',\n",
        "    'Wednesday',\n",
        "    'Thursday',\n",
        "    'Friday',\n",
        "    'Saturday',\n",
        "  ]\n",
        "  \n",
        "  timeData = pd.DataFrame(timeData, columns=cols)\n",
        "  \n",
        "  return timeData"
      ]
    },
    {
      "cell_type": "code",
      "execution_count": 12,
      "metadata": {},
      "outputs": [],
      "source": [
        "time_data = get_time_data(data)\n",
        "time_data.to_csv(f\"dataset/dataset_time.csv\", \";\", index=False)"
      ]
    },
    {
      "source": [
        "## Plot flows"
      ],
      "cell_type": "markdown",
      "metadata": {}
    },
    {
      "cell_type": "code",
      "execution_count": 13,
      "metadata": {},
      "outputs": [],
      "source": [
        "def plot_time(time_data):\n",
        "  weekChange = \"Friday\"\n",
        "  n = len(time_data)\n",
        "\n",
        "  w = 1\n",
        "  i = 0\n",
        "  while i < n:\n",
        "    s = i\n",
        "  \n",
        "    while (i != n) and (time_data.loc[i][weekChange] == 0):\n",
        "      i += 1\n",
        "\n",
        "    while (i != n) and (time_data.loc[i][weekChange] == 1):\n",
        "      i += 1\n",
        "\n",
        "    e = i - 1\n",
        "\n",
        "    print(f\"Semana {w} - {s} : {e}\")\n",
        "    path = f\"plots/time/week_{str(w).zfill(2)}\"\n",
        "\n",
        "    plt.plot(time_data[\"Time\"][s:e])\n",
        "\n",
        "    plt.title(f\"Tempo - Semana {w}\")\n",
        "    plt.ylabel('T')\n",
        "    plt.xlabel('N')\n",
        "    plt.rcdefaults()\n",
        "    \n",
        "    plt.savefig(path + \".png\", bbox_inches='tight')\n",
        "    \n",
        "    plt.close('all')\n",
        "\n",
        "    w += 1"
      ]
    },
    {
      "cell_type": "code",
      "execution_count": 14,
      "metadata": {},
      "outputs": [
        {
          "output_type": "execute_result",
          "data": {
            "text/plain": [
              "536879"
            ]
          },
          "metadata": {},
          "execution_count": 14
        }
      ],
      "source": [
        "len(time_data)"
      ]
    },
    {
      "cell_type": "code",
      "execution_count": 15,
      "metadata": {},
      "outputs": [
        {
          "output_type": "stream",
          "name": "stdout",
          "text": [
            "Semana 1 - 0 : 39966\n",
            "Semana 2 - 39967 : 80953\n",
            "Semana 3 - 80954 : 119891\n",
            "Semana 4 - 119892 : 156071\n",
            "Semana 5 - 156072 : 196511\n",
            "Semana 6 - 196512 : 240228\n",
            "Semana 7 - 240229 : 283294\n",
            "Semana 8 - 283295 : 324453\n",
            "Semana 9 - 324454 : 365545\n",
            "Semana 10 - 365546 : 408700\n",
            "Semana 11 - 408701 : 450801\n",
            "Semana 12 - 450802 : 492049\n",
            "Semana 13 - 492050 : 532297\n",
            "Semana 14 - 532298 : 536878\n"
          ]
        }
      ],
      "source": [
        "plot_time(time_data)"
      ]
    }
  ]
}