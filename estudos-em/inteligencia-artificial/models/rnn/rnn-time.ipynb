{
  "nbformat": 4,
  "nbformat_minor": 0,
  "metadata": {
    "colab": {
      "name": "Untitled0.ipynb",
      "provenance": []
    },
    "kernelspec": {
      "name": "python3",
      "display_name": "Python 3.7.10 64-bit",
      "metadata": {
        "interpreter": {
          "hash": "fd69f43f58546b570e94fd7eba7b65e6bcc7a5bbc4eab0408017d18902915d69"
        }
      }
    }
  },
  "cells": [
    {
      "source": [
        "## Libraries and config"
      ],
      "cell_type": "markdown",
      "metadata": {}
    },
    {
      "cell_type": "code",
      "execution_count": 1,
      "metadata": {},
      "outputs": [
        {
          "output_type": "stream",
          "name": "stdout",
          "text": [
            "Python 3.9.2\n",
            "Python 3.7.10\n",
            "Defaulting to user installation because normal site-packages is not writeable\n",
            "Requirement already satisfied: tensorflow==1.15 in /home/oh/.local/lib/python3.7/site-packages (1.15.0)\n",
            "Requirement already satisfied: keras-preprocessing>=1.0.5 in /home/oh/.local/lib/python3.7/site-packages (from tensorflow==1.15) (1.1.2)\n",
            "Requirement already satisfied: six>=1.10.0 in /home/oh/.local/lib/python3.7/site-packages (from tensorflow==1.15) (1.15.0)\n",
            "Requirement already satisfied: tensorboard<1.16.0,>=1.15.0 in /home/oh/.local/lib/python3.7/site-packages (from tensorflow==1.15) (1.15.0)\n",
            "Requirement already satisfied: grpcio>=1.8.6 in /home/oh/.local/lib/python3.7/site-packages (from tensorflow==1.15) (1.36.1)\n",
            "Requirement already satisfied: numpy<2.0,>=1.16.0 in /home/oh/.local/lib/python3.7/site-packages (from tensorflow==1.15) (1.20.1)\n",
            "Requirement already satisfied: astor>=0.6.0 in /home/oh/.local/lib/python3.7/site-packages (from tensorflow==1.15) (0.8.1)\n",
            "Requirement already satisfied: gast==0.2.2 in /home/oh/.local/lib/python3.7/site-packages (from tensorflow==1.15) (0.2.2)\n",
            "Requirement already satisfied: google-pasta>=0.1.6 in /home/oh/.local/lib/python3.7/site-packages (from tensorflow==1.15) (0.2.0)\n",
            "Requirement already satisfied: termcolor>=1.1.0 in /home/oh/.local/lib/python3.7/site-packages (from tensorflow==1.15) (1.1.0)\n",
            "Requirement already satisfied: wrapt>=1.11.1 in /home/oh/.local/lib/python3.7/site-packages (from tensorflow==1.15) (1.12.1)\n",
            "Requirement already satisfied: absl-py>=0.7.0 in /home/oh/.local/lib/python3.7/site-packages (from tensorflow==1.15) (0.12.0)\n",
            "Requirement already satisfied: wheel>=0.26 in /home/oh/.local/lib/python3.7/site-packages (from tensorflow==1.15) (0.36.2)\n",
            "Requirement already satisfied: protobuf>=3.6.1 in /home/oh/.local/lib/python3.7/site-packages (from tensorflow==1.15) (3.15.6)\n",
            "Requirement already satisfied: opt-einsum>=2.3.2 in /home/oh/.local/lib/python3.7/site-packages (from tensorflow==1.15) (3.3.0)\n",
            "Requirement already satisfied: keras-applications>=1.0.8 in /home/oh/.local/lib/python3.7/site-packages (from tensorflow==1.15) (1.0.8)\n",
            "Requirement already satisfied: tensorflow-estimator==1.15.1 in /home/oh/.local/lib/python3.7/site-packages (from tensorflow==1.15) (1.15.1)\n",
            "Requirement already satisfied: h5py in /home/oh/.local/lib/python3.7/site-packages (from keras-applications>=1.0.8->tensorflow==1.15) (3.2.1)\n",
            "Requirement already satisfied: markdown>=2.6.8 in /home/oh/.local/lib/python3.7/site-packages (from tensorboard<1.16.0,>=1.15.0->tensorflow==1.15) (3.3.4)\n",
            "Requirement already satisfied: setuptools>=41.0.0 in /home/oh/.local/lib/python3.7/site-packages (from tensorboard<1.16.0,>=1.15.0->tensorflow==1.15) (47.1.0)\n",
            "Requirement already satisfied: werkzeug>=0.11.15 in /home/oh/.local/lib/python3.7/site-packages (from tensorboard<1.16.0,>=1.15.0->tensorflow==1.15) (1.0.1)\n",
            "Requirement already satisfied: importlib-metadata in /home/oh/.local/lib/python3.7/site-packages (from markdown>=2.6.8->tensorboard<1.16.0,>=1.15.0->tensorflow==1.15) (3.7.3)\n",
            "Requirement already satisfied: cached-property in /home/oh/.local/lib/python3.7/site-packages (from h5py->keras-applications>=1.0.8->tensorflow==1.15) (1.5.2)\n",
            "Requirement already satisfied: zipp>=0.5 in /home/oh/.local/lib/python3.7/site-packages (from importlib-metadata->markdown>=2.6.8->tensorboard<1.16.0,>=1.15.0->tensorflow==1.15) (3.4.1)\n",
            "Requirement already satisfied: typing-extensions>=3.6.4 in /home/oh/.local/lib/python3.7/site-packages (from importlib-metadata->markdown>=2.6.8->tensorboard<1.16.0,>=1.15.0->tensorflow==1.15) (3.7.4.3)\n",
            "Defaulting to user installation because normal site-packages is not writeable\n",
            "Requirement already satisfied: numpy in /home/oh/.local/lib/python3.7/site-packages (1.20.1)\n",
            "Defaulting to user installation because normal site-packages is not writeable\n",
            "Requirement already satisfied: pandas in /home/oh/.local/lib/python3.7/site-packages (1.2.3)\n",
            "Requirement already satisfied: pytz>=2017.3 in /home/oh/.local/lib/python3.7/site-packages (from pandas) (2021.1)\n",
            "Requirement already satisfied: python-dateutil>=2.7.3 in /usr/lib/python3.7/site-packages (from pandas) (2.8.0)\n",
            "Requirement already satisfied: numpy>=1.16.5 in /home/oh/.local/lib/python3.7/site-packages (from pandas) (1.20.1)\n",
            "Requirement already satisfied: six>=1.5 in /home/oh/.local/lib/python3.7/site-packages (from python-dateutil>=2.7.3->pandas) (1.15.0)\n",
            "Defaulting to user installation because normal site-packages is not writeable\n",
            "Requirement already satisfied: numpy in /home/oh/.local/lib/python3.7/site-packages (1.20.1)\n",
            "Defaulting to user installation because normal site-packages is not writeable\n",
            "Requirement already satisfied: sklearn in /usr/lib/python3.7/site-packages (0.0)\n",
            "Requirement already satisfied: scikit-learn in /usr/lib/python3.7/site-packages (from sklearn) (0.21.2)\n",
            "Requirement already satisfied: scipy>=0.17.0 in /usr/lib/python3.7/site-packages (from scikit-learn->sklearn) (1.3.0)\n",
            "Requirement already satisfied: numpy>=1.11.0 in /home/oh/.local/lib/python3.7/site-packages (from scikit-learn->sklearn) (1.20.1)\n",
            "Requirement already satisfied: joblib>=0.11 in /usr/lib/python3.7/site-packages (from scikit-learn->sklearn) (0.13.2)\n",
            "Defaulting to user installation because normal site-packages is not writeable\n",
            "Requirement already satisfied: statsmodels in /home/oh/.local/lib/python3.7/site-packages (0.12.2)\n",
            "Requirement already satisfied: numpy>=1.15 in /home/oh/.local/lib/python3.7/site-packages (from statsmodels) (1.20.1)\n",
            "Requirement already satisfied: patsy>=0.5 in /home/oh/.local/lib/python3.7/site-packages (from statsmodels) (0.5.1)\n",
            "Requirement already satisfied: scipy>=1.1 in /usr/lib/python3.7/site-packages (from statsmodels) (1.3.0)\n",
            "Requirement already satisfied: pandas>=0.21 in /home/oh/.local/lib/python3.7/site-packages (from statsmodels) (1.2.3)\n",
            "Requirement already satisfied: pytz>=2017.3 in /home/oh/.local/lib/python3.7/site-packages (from pandas>=0.21->statsmodels) (2021.1)\n",
            "Requirement already satisfied: python-dateutil>=2.7.3 in /usr/lib/python3.7/site-packages (from pandas>=0.21->statsmodels) (2.8.0)\n",
            "Requirement already satisfied: six in /home/oh/.local/lib/python3.7/site-packages (from patsy>=0.5->statsmodels) (1.15.0)\n",
            "Defaulting to user installation because normal site-packages is not writeable\n",
            "Requirement already satisfied: matplotlib in /usr/lib/python3.7/site-packages (3.1.0)\n",
            "Requirement already satisfied: pyparsing!=2.0.4,!=2.1.2,!=2.1.6,>=2.0.1 in /home/oh/.local/lib/python3.7/site-packages (from matplotlib) (2.4.7)\n",
            "Requirement already satisfied: cycler>=0.10 in /usr/lib/python3.7/site-packages (from matplotlib) (0.10.0)\n",
            "Requirement already satisfied: python-dateutil>=2.1 in /usr/lib/python3.7/site-packages (from matplotlib) (2.8.0)\n",
            "Requirement already satisfied: numpy>=1.11 in /home/oh/.local/lib/python3.7/site-packages (from matplotlib) (1.20.1)\n",
            "Requirement already satisfied: kiwisolver>=1.0.1 in /usr/lib/python3.7/site-packages (from matplotlib) (1.1.0)\n",
            "Requirement already satisfied: six in /home/oh/.local/lib/python3.7/site-packages (from cycler>=0.10->matplotlib) (1.15.0)\n",
            "Requirement already satisfied: setuptools in /home/oh/.local/lib/python3.7/site-packages (from kiwisolver>=1.0.1->matplotlib) (47.1.0)\n",
            "Defaulting to user installation because normal site-packages is not writeable\n",
            "Requirement already satisfied: keras==2.3.1 in /home/oh/.local/lib/python3.7/site-packages (2.3.1)\n",
            "Requirement already satisfied: pyyaml in /home/oh/.local/lib/python3.7/site-packages (from keras==2.3.1) (5.4.1)\n",
            "Requirement already satisfied: keras-preprocessing>=1.0.5 in /home/oh/.local/lib/python3.7/site-packages (from keras==2.3.1) (1.1.2)\n",
            "Requirement already satisfied: six>=1.9.0 in /home/oh/.local/lib/python3.7/site-packages (from keras==2.3.1) (1.15.0)\n",
            "Requirement already satisfied: scipy>=0.14 in /usr/lib/python3.7/site-packages (from keras==2.3.1) (1.3.0)\n",
            "Requirement already satisfied: keras-applications>=1.0.6 in /home/oh/.local/lib/python3.7/site-packages (from keras==2.3.1) (1.0.8)\n",
            "Requirement already satisfied: h5py in /home/oh/.local/lib/python3.7/site-packages (from keras==2.3.1) (3.2.1)\n",
            "Requirement already satisfied: numpy>=1.9.1 in /home/oh/.local/lib/python3.7/site-packages (from keras==2.3.1) (1.20.1)\n",
            "Requirement already satisfied: cached-property in /home/oh/.local/lib/python3.7/site-packages (from h5py->keras==2.3.1) (1.5.2)\n"
          ]
        }
      ],
      "source": [
        "!python --version\n",
        "!python3.7 --version\n",
        "!python3.7 -m pip install tensorflow==1.15\n",
        "!python3.7 -m pip install numpy\n",
        "!python3.7 -m pip install pandas\n",
        "!python3.7 -m pip install numpy\n",
        "!python3.7 -m pip install sklearn\n",
        "!python3.7 -m pip install statsmodels\n",
        "!python3.7 -m pip install matplotlib\n",
        "!python3.7 -m pip install keras==2.3.1"
      ]
    },
    {
      "cell_type": "code",
      "metadata": {
        "id": "s3tKGcLkrmvV"
      },
      "source": [
        "import matplotlib.pyplot as plt\n",
        "\n",
        "import sklearn\n",
        "import time\n",
        "import random\n",
        "import copy\n",
        "import json\n",
        "\n",
        "import pandas as pd # data manipulation library\n",
        "import numpy as np # math library\n",
        "\n",
        "import sklearn.metrics as sklm # metrics\n",
        "import skll.metrics as skllm\n",
        "import statsmodels as sm # statistical models\n",
        "from sklearn.model_selection import GridSearchCV"
      ],
      "execution_count": 2,
      "outputs": []
    },
    {
      "cell_type": "code",
      "execution_count": 3,
      "metadata": {},
      "outputs": [
        {
          "output_type": "stream",
          "name": "stderr",
          "text": [
            "Using TensorFlow backend.\n"
          ]
        }
      ],
      "source": [
        "from keras.models import Sequential\n",
        "from keras.layers import Dense, Activation\n",
        "from keras.optimizers import Adam, Adagrad\n",
        "from keras.wrappers.scikit_learn import KerasRegressor\n",
        "\n",
        "import tensorflow as tf # machine learning library\n",
        "import os\n",
        "\n",
        "os.environ['PYTHONHASHSEED'] = '0'\n",
        "tf.compat.v1.reset_default_graph()\n",
        "tf.compat.v1.random.set_random_seed(0)\n",
        "np.random.seed(0)\n",
        "random.seed(0)\n",
        "\n",
        "from keras import backend as K\n",
        "\n",
        "# 5. Configure a new global `tensorflow` session\n",
        "session_conf = tf.compat.v1.ConfigProto(intra_op_parallelism_threads=1, inter_op_parallelism_threads=1)\n",
        "sess = tf.compat.v1.Session(graph=tf.compat.v1.get_default_graph(), config=session_conf)\n",
        "K.set_session(sess)\n",
        "\n",
        "from keras.layers import SimpleRNN"
      ]
    },
    {
      "source": [
        "## Utils"
      ],
      "cell_type": "markdown",
      "metadata": {}
    },
    {
      "cell_type": "code",
      "execution_count": 4,
      "metadata": {},
      "outputs": [],
      "source": [
        "PATH = \"./\""
      ]
    },
    {
      "cell_type": "code",
      "execution_count": 5,
      "metadata": {},
      "outputs": [],
      "source": [
        "def retrieve_data():\n",
        "    path = \"{0}dataset/dataset_time.csv\".format(PATH)\n",
        "    print(PATH)\n",
        "    data = pd.read_csv(path, ';')\n",
        "    \n",
        "    data['Time'].apply(int)\n",
        "    data['Speed'].apply(float)\n",
        "    data['Sunday'].apply(int)\n",
        "    data['Monday'].apply(int)\n",
        "    data['Tuesday'].apply(int)\n",
        "    data['Wednesday'].apply(int)\n",
        "    data['Thursday'].apply(int)\n",
        "    data['Friday'].apply(int)\n",
        "    data['Saturday'].apply(int)\n",
        "      \n",
        "    return data"
      ]
    },
    {
      "cell_type": "code",
      "execution_count": 6,
      "metadata": {},
      "outputs": [],
      "source": [
        "def store(obj, path, name):\n",
        "  with open(\"{0}{1}/{2}.json\".format(PATH, path, name), 'w') as json_file:\n",
        "    json.dump(obj, json_file, sort_keys=True, indent=4)"
      ]
    },
    {
      "cell_type": "code",
      "execution_count": 7,
      "metadata": {},
      "outputs": [],
      "source": [
        "def generate_dataset(data, useB, n_steps, n_future):\n",
        "  \"\"\" Generate Dataset\n",
        "  \n",
        "  Generate a dataset provided a sequence. Reshape the sequence in rolling intervals from [samples, timesteps] into \n",
        "  [samples, timesteps, features] and split the sequence. The split the sequence in rolling intervals with a corresponding value \n",
        "  like the example bellow.\n",
        "\n",
        "  Ex: split_sequence([1, 2, 3, 4, 5], 3) #([[1, 2, 3], [2, 3, 4]], [4, 5])\n",
        "  \n",
        "  Arguments:\n",
        "    raw_seq: the sequence to reshape.\n",
        "    useB: if the dataset is more complex or not.\n",
        "    n_steps: size of the rolling interval\n",
        "    n_future: the distance to the interval the value should be.  \n",
        "  \"\"\"\n",
        "\n",
        "  sequence = np.array(data if useB else data['Time'])\n",
        "\n",
        "  n = len(sequence)\n",
        "  X, Y = list(), list()\n",
        "\n",
        "  for i in range(n):\n",
        "    j = i + n_steps\n",
        "    k = j + n_future\n",
        "\n",
        "    if k >= n:\n",
        "      break\n",
        "\n",
        "    seq_x, seq_y = sequence[i:j], sequence[k]\n",
        "    X.append(seq_x)\t\n",
        "    Y.append(seq_y[0] if useB else seq_y)\n",
        "\n",
        "  X, Y = np.array(X), np.array(Y)\t\n",
        "  \n",
        "  if not useB:\n",
        "    X = X.reshape((X.shape[0], X.shape[1], 1))\n",
        "\n",
        "  return X, Y"
      ]
    },
    {
      "cell_type": "code",
      "execution_count": 8,
      "metadata": {},
      "outputs": [],
      "source": [
        "def evaluate (expected, observed, times, name):\n",
        "  \"\"\" Evaluate Sessions\n",
        "  \n",
        "  Evaluate models by RMSE, NRMSE, MAE, HR, PRE. It will store the \n",
        "  results in a object and return it.\n",
        "  \n",
        "  Arguments:\n",
        "    expected: an array of expected instances of each \n",
        "      train&test session.\n",
        "    observed: an array of observed instances of each \n",
        "      train&test session.\n",
        "    times: an array of the time of each train&test session.\n",
        "    name: the name of the model\n",
        "  \"\"\"\n",
        "  n = len(expected)\n",
        "  flatten = lambda l : [i for sl in l for i in sl]\n",
        "  \n",
        "  # Make the arrays serializable\n",
        "  expected = list(map(list, expected))\n",
        "  observed = list(map(list, observed))\n",
        "  \n",
        "  for i in range(n):\n",
        "    expected[i] = list(map(float, expected[i]))\n",
        "    observed[i] = list(map(float, observed[i]))\n",
        "  \n",
        "  raw = evaluate_raw(expected, observed, times)\n",
        "  \n",
        "  #n_buckets = len(raw['PRE'])\n",
        "  #_pre = [[pre[i] for pre in raw['PRE']] for i in range(n_buckets)]\n",
        "  \n",
        "  eva = {\n",
        "    'TIME': int(sum(times)),\n",
        "    'RMSE': float(np.mean(raw['RMSE'])),\n",
        "    # 'NRMSE': float(np.mean(raw['NRMSE'])),\n",
        "    'MAE': float(np.mean(raw['MAE'])),\n",
        "    'HR': float(np.mean(raw['HR'])),\n",
        "    #'PRE': [float(np.mean(p)) for p in _pre],\n",
        "    'has_negative': (min(flatten(observed)) < 0),\n",
        "    'raw': raw\n",
        "  }\n",
        "  \n",
        "  print(\"\\n{0} Final Result:\".format(name))\n",
        "  print(\"\\tTotal Time: {0}s\".format(eva['TIME']))\n",
        "  print(\"\\tRMSE: {0}\".format(eva['RMSE']))\n",
        "  # print(\"\\tNRMSE: {0}\".format(eva['NRMSE']))\n",
        "  print(\"\\tMAE: {0}\".format(eva['MAE']))\n",
        "  print(\"\\tHit Ratio: {0}%\".format(eva['HR'] * 100))\n",
        "  #print(\"\\tPrecision: {0}\".format(eva['PRE']))\n",
        "    \n",
        "  return eva"
      ]
    },
    {
      "cell_type": "code",
      "execution_count": 9,
      "metadata": {},
      "outputs": [],
      "source": [
        "def evaluate_raw (expected, observed, times):\n",
        "  \"\"\" Evaluate Raw Sessions \n",
        "  \n",
        "  Evaluate each of the train&test sessions by RMSE, NRMSE, MAE, HR, PRE. \n",
        "  It will store the results in a object and return it.\n",
        "  \n",
        "  Arguments:\n",
        "    expected: an array of expected instances of each train&test session.\n",
        "    observed: an array of observed instances of each train&test session.\n",
        "    times: an array of the time of each train&test session.\n",
        "  \"\"\"\n",
        "  \n",
        "  n = len(expected)\n",
        "\n",
        "  for i in range(n):\n",
        "    observed[i] = [0 if np.isnan(o) else o for o in observed[i]]\n",
        "\n",
        "  for i in range(n):\n",
        "    observed[i] = [max(o, 0) for o in observed[i]]\n",
        "  \n",
        "  raw = {\n",
        "    'expected': expected,\n",
        "    'observed': observed,\n",
        "    'TIME': times,\n",
        "    'RMSE': [0] * n,\n",
        "    # 'NRMSE': [0] * n,\n",
        "    'MAE': [0] * n,\n",
        "    'HR': [0] * n,\n",
        "    #'PRE': [0] * n,\n",
        "  }\n",
        "  \n",
        "  for i in range(n):\n",
        "    Y = expected[i]\n",
        "    Y_hat = observed[i]\n",
        "    time = times[i]\n",
        "\n",
        "    raw['MAE'][i] = sklm.mean_absolute_error(Y, Y_hat)\n",
        "    raw['RMSE'][i] = np.sqrt(sklm.mean_squared_error(Y, Y_hat))\n",
        "    # raw['NRMSE'][i] = raw['RMSE'][i] / np.std(Y)\n",
        "    raw['HR'][i] = evaluate_precision_hit_ratio(Y, Y_hat)\n",
        "    #raw['PRE'][i] = evaluate_precision_bucket(Y, Y_hat)\n",
        "    \n",
        "    if VERBOSITY:\n",
        "      print(\"({0}/{1}) Test Size: {2}, Time: {3}s\".format(i+1, n, len(Y), time))\n",
        "      print(\"\\tRMSE: {0}\".format(raw['RMSE'][i]))\n",
        "      # print(\"\\tNRMSE: {0}\".format(raw['NRMSE'][i]))\n",
        "      print(\"\\tMAE: {0}\".format(raw['MAE'][i]))\n",
        "      print(\"\\tHit Ratio: {0}%\".format(raw['HR'][i] * 100))\n",
        "\n",
        "  return raw"
      ]
    },
    {
      "cell_type": "code",
      "execution_count": 10,
      "metadata": {},
      "outputs": [],
      "source": [
        "def evaluate_precision_hit_ratio (Y, Y_hat):\n",
        "  \"\"\" Trend Prediction Ratio Calculation\n",
        "  \n",
        "  Calculates the ratio of up/down prediction.\n",
        "  \n",
        "  Arguments:\n",
        "    Y: the expected dataset.\n",
        "    Y_hat: the observed dataset.\n",
        "  \"\"\"\n",
        "  \n",
        "  cnt = 0\n",
        "  \n",
        "  for i in range(len(Y)):\n",
        "    if i < N_FUTURE:\n",
        "      continue\n",
        "      \n",
        "    exp = Y[i] - Y[i - N_FUTURE]\n",
        "    obs = Y_hat[i] - Y[i - N_FUTURE]\n",
        "    \n",
        "    if exp * obs > 0:\n",
        "      cnt += 1\n",
        "    \n",
        "  return cnt / len(Y)"
      ]
    },
    {
      "cell_type": "code",
      "execution_count": 11,
      "metadata": {},
      "outputs": [],
      "source": [
        "def plot_prediction (Y, Y_hat, title):\n",
        "  \"\"\" Plot Prediction\n",
        "  \n",
        "  Plot the prediction (Flow x Time) of what was expected and what\n",
        "  was predicted.\n",
        "  \"\"\"\n",
        "\n",
        "  name = f\"{title}\"\n",
        "  path = f\"plots/prediction/{name}\"\n",
        "  \n",
        "  plt.plot(Y)\n",
        "  plt.plot(Y_hat)\n",
        "  plt.title(f\"Predição do Modelo {title}\")\n",
        "  plt.ylabel('Tempo')\n",
        "  plt.xlabel('N')\n",
        "  plt.legend(['esperado', 'observado'], loc='upper left')\n",
        "  plt.rcdefaults()\n",
        "  plt.savefig(path + \".png\", bbox_inches='tight')\n",
        "  plt.close('all')"
      ]
    },
    {
      "source": [
        "## Model"
      ],
      "cell_type": "markdown",
      "metadata": {}
    },
    {
      "cell_type": "code",
      "execution_count": 12,
      "metadata": {},
      "outputs": [],
      "source": [
        "# Model Parameters\n",
        "SEEABLE_PAST = 480 # in minutes\n",
        "PREDICT_IN_FUTURE = 60 # in minutes\n",
        "FLOW_INTERVAL = 150 # the interval size for each flow\n",
        "N_SPLITS = 8"
      ]
    },
    {
      "cell_type": "code",
      "execution_count": 13,
      "metadata": {},
      "outputs": [],
      "source": [
        "# Derivated Model Parameters\n",
        "N_STEPS = SEEABLE_PAST * 60 // FLOW_INTERVAL # the number of flows to see in the past\n",
        "N_FUTURE = PREDICT_IN_FUTURE * 60 // FLOW_INTERVAL # how much in the future we want to predict (0 = predict the flow on the next FLOW_INTERVAL minutes)\n",
        "DAY_SIZE = (24 * 60 * 60) // FLOW_INTERVAL  \n",
        "WEEK_SIZE = (7 * 24 * 60 * 60) // FLOW_INTERVAL\n",
        "VERBOSITY = True"
      ]
    },
    {
      "cell_type": "code",
      "execution_count": 14,
      "metadata": {},
      "outputs": [],
      "source": [
        "def split_dataset():\n",
        "    ## last 15 days\n",
        "    return 450801"
      ]
    },
    {
      "cell_type": "code",
      "execution_count": 15,
      "metadata": {},
      "outputs": [],
      "source": [
        "def rnn (data, useB): \n",
        "  global result_data\n",
        "  \n",
        "  name = \"RNN B\" if useB else \"RNN A\"\n",
        "  \n",
        "  X, Y = generate_dataset(data, useB, N_STEPS, N_FUTURE)\n",
        "  \n",
        "  model = Sequential()\t\t\n",
        "\n",
        "  model.add(SimpleRNN(50, activation='relu', input_shape=(X.shape[1], X.shape[2])))\t\t\n",
        "  model.add(Dense(1))\t\t\n",
        "\n",
        "  model.compile(optimizer='adam', loss='mse', metrics = [\"accuracy\"])\n",
        "  \n",
        "  pointer = split_dataset()\n",
        "    \n",
        "  h = model.fit(X[0:pointer], Y[0:pointer], validation_split=0.33, batch_size=512, epochs=10, verbose=2)\n",
        "\n",
        "  return h, [X[(pointer + 1):], Y[(pointer + 1):]]"
      ]
    },
    {
      "cell_type": "code",
      "execution_count": 16,
      "metadata": {},
      "outputs": [
        {
          "output_type": "stream",
          "name": "stdout",
          "text": [
            "./\n",
            "WARNING:tensorflow:From /home/oh/.local/lib/python3.7/site-packages/tensorflow_core/python/ops/resource_variable_ops.py:1630: calling BaseResourceVariable.__init__ (from tensorflow.python.ops.resource_variable_ops) with constraint is deprecated and will be removed in a future version.\n",
            "Instructions for updating:\n",
            "If using Keras pass *_constraint arguments to layers.\n",
            "WARNING:tensorflow:From /home/oh/.local/lib/python3.7/site-packages/keras/backend/tensorflow_backend.py:422: The name tf.global_variables is deprecated. Please use tf.compat.v1.global_variables instead.\n",
            "\n",
            "Train on 302036 samples, validate on 148765 samples\n",
            "Epoch 1/10\n",
            " - 66s - loss: 93811832.0113 - accuracy: 2.2514e-04 - val_loss: 33101515.9484 - val_accuracy: 0.0000e+00\n",
            "Epoch 2/10\n",
            " - 69s - loss: 32984783.1705 - accuracy: 5.0325e-04 - val_loss: 32199772.8307 - val_accuracy: 0.0000e+00\n",
            "Epoch 3/10\n",
            " - 68s - loss: 32606682.5933 - accuracy: 4.2379e-04 - val_loss: 33651657.6023 - val_accuracy: 2.6888e-05\n",
            "Epoch 4/10\n",
            " - 67s - loss: 32414354.9077 - accuracy: 4.2048e-04 - val_loss: 31446235.2868 - val_accuracy: 0.0000e+00\n",
            "Epoch 5/10\n",
            " - 66s - loss: 32315920.9835 - accuracy: 4.1717e-04 - val_loss: 33025389.4704 - val_accuracy: 4.0332e-05\n",
            "Epoch 6/10\n",
            " - 66s - loss: 32444162.0151 - accuracy: 4.4366e-04 - val_loss: 31482125.3519 - val_accuracy: 0.0000e+00\n",
            "Epoch 7/10\n",
            " - 66s - loss: 32032234.6433 - accuracy: 3.4102e-04 - val_loss: 31340096.5816 - val_accuracy: 0.0000e+00\n",
            "Epoch 8/10\n",
            " - 66s - loss: 32017650.7056 - accuracy: 4.5359e-04 - val_loss: 31088182.3137 - val_accuracy: 0.0000e+00\n",
            "Epoch 9/10\n",
            " - 67s - loss: 31967207.5535 - accuracy: 3.3440e-04 - val_loss: 31533889.6621 - val_accuracy: 0.0000e+00\n",
            "Epoch 10/10\n",
            " - 66s - loss: 31928295.8813 - accuracy: 4.2379e-04 - val_loss: 30991746.5400 - val_accuracy: 1.0755e-04\n"
          ]
        }
      ],
      "source": [
        "global result_data\n",
        "  \n",
        "result_data = {\n",
        "    'results': {},\n",
        "    'meta': {\n",
        "      'SEEABLE_PAST': SEEABLE_PAST,\n",
        "      'PREDICT_IN_FUTURE': PREDICT_IN_FUTURE,\n",
        "      'FLOW_INTERVAL': FLOW_INTERVAL,\n",
        "      'N_SPLITS': N_SPLITS,\n",
        "    }\n",
        "}\n",
        "\n",
        "data = retrieve_data()\n",
        "\n",
        "history, validation = rnn(data, False)"
      ]
    },
    {
      "cell_type": "code",
      "execution_count": 17,
      "metadata": {},
      "outputs": [],
      "source": [
        "prediction = history.model.predict(validation[0])"
      ]
    },
    {
      "cell_type": "code",
      "execution_count": 18,
      "metadata": {},
      "outputs": [],
      "source": [
        "plot_prediction(validation[1], prediction, \"RNN-time\")"
      ]
    },
    {
      "cell_type": "code",
      "execution_count": 19,
      "metadata": {},
      "outputs": [
        {
          "output_type": "stream",
          "name": "stdout",
          "text": [
            "(1/1) Test Size: 85861, Time: 0s\n\tRMSE: 5474.750973778963\n\tMAE: 711.3057066515483\n\tHit Ratio: 69.54496220635679%\n\nRNN-time Final Result:\n\tTotal Time: 0s\n\tRMSE: 5474.750973778963\n\tMAE: 711.3057066515483\n\tHit Ratio: 69.54496220635679%\n"
          ]
        }
      ],
      "source": [
        "ev = evaluate([validation[1]], [prediction], [0], \"RNN-time\")"
      ]
    },
    {
      "cell_type": "code",
      "execution_count": 20,
      "metadata": {},
      "outputs": [],
      "source": [
        "store(ev, 'results', 'RNN-time')"
      ]
    }
  ]
}